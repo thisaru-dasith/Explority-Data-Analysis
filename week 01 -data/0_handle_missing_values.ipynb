{
 "cells": [
  {
   "cell_type": "code",
   "execution_count": null,
   "id": "7a8009cb",
   "metadata": {},
   "outputs": [],
   "source": [
    "!pip install -r requirements.txt "
   ]
  },
  {
   "cell_type": "markdown",
   "id": "9eca9f21",
   "metadata": {},
   "source": [
    "##### is used inside Jupyter Notebook (the ! lets you run shell commands from a notebook cell).It tells pip (Python’s package manager) to read a file called requirements.txt and install all the Python libraries listed in it."
   ]
  },
  {
   "cell_type": "markdown",
   "id": "8fc1f4d9",
   "metadata": {},
   "source": [
    "### 1. Importing Dependencies\n"
   ]
  },
  {
   "cell_type": "code",
   "execution_count": 3,
   "id": "1dba82c9",
   "metadata": {},
   "outputs": [],
   "source": [
    "import numpy as np\n",
    "import pandas as pd\n",
    "import openai, groq"
   ]
  },
  {
   "cell_type": "markdown",
   "id": "2cc0b5ff",
   "metadata": {},
   "source": [
    "#### 2. Basic Information"
   ]
  },
  {
   "cell_type": "code",
   "execution_count": null,
   "id": "5760bbff",
   "metadata": {},
   "outputs": [],
   "source": [
    "df = pd."
   ]
  }
 ],
 "metadata": {
  "kernelspec": {
   "display_name": "bprml",
   "language": "python",
   "name": "python3"
  },
  "language_info": {
   "codemirror_mode": {
    "name": "ipython",
    "version": 3
   },
   "file_extension": ".py",
   "mimetype": "text/x-python",
   "name": "python",
   "nbconvert_exporter": "python",
   "pygments_lexer": "ipython3",
   "version": "3.11.13"
  }
 },
 "nbformat": 4,
 "nbformat_minor": 5
}
