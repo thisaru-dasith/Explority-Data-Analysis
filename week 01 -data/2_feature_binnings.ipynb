{
 "cells": [
  {
   "cell_type": "markdown",
   "id": "66a97381",
   "metadata": {},
   "source": [
    "##### How Binning Helps\n",
    "\n",
    "1. Non-linear relationship with target\n",
    "   - Binning can capture non-linear patterns that a linear model might miss.\n",
    "\n",
    "2. Skewed distribution\n",
    "   - Binning smooths out skewness and reduces the impact of extreme values.\n",
    "\n",
    "3. Interpretability is key\n",
    "   - Easier for business users to understand ranges like \"age 18–25\" than a specific value like \"age = 23.\"\n",
    "\n",
    "4. Model prone to overfitting\n",
    "   - Binning reduces granularity, leading to fewer splits and less overfitting.\n",
    "\n",
    "5. Need to reduce cardinality\n",
    "   - Helps when a numeric column has too many unique values.\n",
    "\n",
    "6. Sparse or noisy data\n",
    "   - Binning groups rare or noisy values to improve signal strength."
   ]
  },
  {
   "cell_type": "code",
   "execution_count": 1,
   "id": "e7ce237c",
   "metadata": {},
   "outputs": [],
   "source": [
    "import numpy as np\n",
    "import pandas as pd\n",
    "import seaborn as sns\n",
    "import matplotlib.pyplot as plt"
   ]
  },
  {
   "cell_type": "markdown",
   "id": "e5083182",
   "metadata": {},
   "source": [
    "#### 2. Basic Prosseding"
   ]
  },
  {
   "cell_type": "code",
   "execution_count": 4,
   "id": "be25eb43",
   "metadata": {},
   "outputs": [
    {
     "data": {
      "text/html": [
       "<div>\n",
       "<style scoped>\n",
       "    .dataframe tbody tr th:only-of-type {\n",
       "        vertical-align: middle;\n",
       "    }\n",
       "\n",
       "    .dataframe tbody tr th {\n",
       "        vertical-align: top;\n",
       "    }\n",
       "\n",
       "    .dataframe thead th {\n",
       "        text-align: right;\n",
       "    }\n",
       "</style>\n",
       "<table border=\"1\" class=\"dataframe\">\n",
       "  <thead>\n",
       "    <tr style=\"text-align: right;\">\n",
       "      <th></th>\n",
       "      <th>CreditScore</th>\n",
       "      <th>Geography</th>\n",
       "      <th>Gender</th>\n",
       "      <th>Age</th>\n",
       "      <th>Tenure</th>\n",
       "      <th>Balance</th>\n",
       "      <th>NumOfProducts</th>\n",
       "      <th>HasCrCard</th>\n",
       "      <th>IsActiveMember</th>\n",
       "      <th>EstimatedSalary</th>\n",
       "      <th>Exited</th>\n",
       "    </tr>\n",
       "  </thead>\n",
       "  <tbody>\n",
       "    <tr>\n",
       "      <th>0</th>\n",
       "      <td>619</td>\n",
       "      <td>France</td>\n",
       "      <td>Female</td>\n",
       "      <td>42.00</td>\n",
       "      <td>2</td>\n",
       "      <td>0.00</td>\n",
       "      <td>1</td>\n",
       "      <td>1</td>\n",
       "      <td>1</td>\n",
       "      <td>101348.88</td>\n",
       "      <td>1</td>\n",
       "    </tr>\n",
       "    <tr>\n",
       "      <th>1</th>\n",
       "      <td>608</td>\n",
       "      <td>Spain</td>\n",
       "      <td>Female</td>\n",
       "      <td>41.00</td>\n",
       "      <td>1</td>\n",
       "      <td>83807.86</td>\n",
       "      <td>1</td>\n",
       "      <td>0</td>\n",
       "      <td>1</td>\n",
       "      <td>112542.58</td>\n",
       "      <td>0</td>\n",
       "    </tr>\n",
       "    <tr>\n",
       "      <th>2</th>\n",
       "      <td>502</td>\n",
       "      <td>France</td>\n",
       "      <td>Female</td>\n",
       "      <td>42.00</td>\n",
       "      <td>8</td>\n",
       "      <td>159660.80</td>\n",
       "      <td>3</td>\n",
       "      <td>1</td>\n",
       "      <td>0</td>\n",
       "      <td>113931.57</td>\n",
       "      <td>1</td>\n",
       "    </tr>\n",
       "    <tr>\n",
       "      <th>3</th>\n",
       "      <td>699</td>\n",
       "      <td>France</td>\n",
       "      <td>Female</td>\n",
       "      <td>38.91</td>\n",
       "      <td>1</td>\n",
       "      <td>0.00</td>\n",
       "      <td>2</td>\n",
       "      <td>0</td>\n",
       "      <td>0</td>\n",
       "      <td>93826.63</td>\n",
       "      <td>0</td>\n",
       "    </tr>\n",
       "    <tr>\n",
       "      <th>4</th>\n",
       "      <td>850</td>\n",
       "      <td>Spain</td>\n",
       "      <td>Female</td>\n",
       "      <td>43.00</td>\n",
       "      <td>2</td>\n",
       "      <td>125510.82</td>\n",
       "      <td>1</td>\n",
       "      <td>1</td>\n",
       "      <td>1</td>\n",
       "      <td>79084.10</td>\n",
       "      <td>0</td>\n",
       "    </tr>\n",
       "  </tbody>\n",
       "</table>\n",
       "</div>"
      ],
      "text/plain": [
       "   CreditScore Geography  Gender    Age  Tenure    Balance  NumOfProducts  \\\n",
       "0          619    France  Female  42.00       2       0.00              1   \n",
       "1          608     Spain  Female  41.00       1   83807.86              1   \n",
       "2          502    France  Female  42.00       8  159660.80              3   \n",
       "3          699    France  Female  38.91       1       0.00              2   \n",
       "4          850     Spain  Female  43.00       2  125510.82              1   \n",
       "\n",
       "   HasCrCard  IsActiveMember  EstimatedSalary  Exited  \n",
       "0          1               1        101348.88       1  \n",
       "1          0               1        112542.58       0  \n",
       "2          1               0        113931.57       1  \n",
       "3          0               0         93826.63       0  \n",
       "4          1               1         79084.10       0  "
      ]
     },
     "execution_count": 4,
     "metadata": {},
     "output_type": "execute_result"
    }
   ],
   "source": [
    "df = pd.read_csv(\"data/processed/CEHHbInToW_calculated_outliers.csv\")\n",
    "df.head()"
   ]
  },
  {
   "cell_type": "markdown",
   "id": "8b899c5c",
   "metadata": {},
   "source": [
    "- we are going to add binning to credit scores also It is acceptable to add binning to Age and Tuner columns as well but migh not for salary ... "
   ]
  },
  {
   "cell_type": "markdown",
   "id": "8f32b596",
   "metadata": {},
   "source": [
    "350 - 580 => 'poor'\n",
    "580 - 670 => 'fair'\n",
    "670 - 740 => 'good'\n",
    "740 - 800 => 'very good'\n",
    "800 - 850 => 'excellent'"
   ]
  },
  {
   "cell_type": "code",
   "execution_count": null,
   "id": "317f55f1",
   "metadata": {},
   "outputs": [],
   "source": [
    "def custom_binning_credit_score(score):\n",
    "    if score < 580:\n",
    "        return 'Poor'\n",
    "    if score < 670:\n",
    "        return 'Fair' \n",
    "    if score < 740:\n",
    "        return 'good'\n",
    "    if score < 800:\n",
    "        return 'very good'\n",
    "    if score < 850:\n",
    "        return 'excellent'\n",
    "    else:\n",
    "        assert True , 'credit score cant go beyound 850'\n",
    "\n",
    "\n",
    "df['CreditScoreBines'] = df['CreditScore'].apply(custom_binning_credit_score)\n",
    "## apply a function along either axis (rows or columns) of a DataFrame or to each element of a Series\n",
    "df\n",
    "del df['CreditScore']\n",
    "df"
   ]
  },
  {
   "cell_type": "markdown",
   "id": "5ef43ade",
   "metadata": {},
   "source": [
    "##### What `assert` does\n",
    "\n",
    "- `assert` is used in Python to **check if a condition is True**.  \n",
    "- If the condition is **False**, it raises an `AssertionError` with the given message.  \n",
    "\n",
    "**Syntax:**  \n",
    "\n",
    "```python\n",
    "assert condition, \"error message if condition is False\""
   ]
  },
  {
   "cell_type": "code",
   "execution_count": 8,
   "id": "784a0f37",
   "metadata": {},
   "outputs": [],
   "source": [
    "df.to_csv(\"data/processed/CEHHbInToW_binning_applied.csv\", index=False)"
   ]
  }
 ],
 "metadata": {
  "kernelspec": {
   "display_name": "bprml",
   "language": "python",
   "name": "python3"
  },
  "language_info": {
   "codemirror_mode": {
    "name": "ipython",
    "version": 3
   },
   "file_extension": ".py",
   "mimetype": "text/x-python",
   "name": "python",
   "nbconvert_exporter": "python",
   "pygments_lexer": "ipython3",
   "version": "3.11.13"
  }
 },
 "nbformat": 4,
 "nbformat_minor": 5
}
